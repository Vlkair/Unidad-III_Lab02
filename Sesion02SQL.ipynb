{
    "metadata": {
        "kernelspec": {
            "name": "SQL",
            "display_name": "SQL",
            "language": "sql"
        },
        "language_info": {
            "name": "sql",
            "version": ""
        }
    },
    "nbformat_minor": 2,
    "nbformat": 4,
    "cells": [
        {
            "cell_type": "markdown",
            "source": [
                "<h1>Sesión N° 02 - Utilizando Operadores de Conjuntos de Datos"
            ],
            "metadata": {
                "azdata_cell_guid": "d0c4d935-9c5d-43a3-a9b0-a06e7c6b3e84"
            }
        },
        {
            "cell_type": "markdown",
            "source": [
                "<h2>1. Operador UNION"
            ],
            "metadata": {
                "azdata_cell_guid": "9aa4cfaa-48b4-4de7-9064-449c8af61f2b"
            }
        },
        {
            "cell_type": "markdown",
            "source": [
                "1.1. Conectar con la BD TSQL"
            ],
            "metadata": {
                "azdata_cell_guid": "640fa51c-11a4-469b-ae33-f5e2af0d15a1"
            }
        },
        {
            "cell_type": "code",
            "source": [
                "USE TSQL;\r\n",
                "GO"
            ],
            "metadata": {
                "tags": [],
                "azdata_cell_guid": "cf3a81eb-31f2-4d09-9505-9e570a0b0f05",
                "language": "sql"
            },
            "outputs": [
                {
                    "output_type": "error",
                    "evalue": "Msg 911, Level 16, State 1, Line 1\r\nDatabase 'TSQL' does not exist. Make sure that the name is entered correctly.",
                    "ename": "",
                    "traceback": []
                },
                {
                    "output_type": "display_data",
                    "data": {
                        "text/html": "Total execution time: 00:00:00"
                    },
                    "metadata": {}
                }
            ],
            "execution_count": 2
        },
        {
            "cell_type": "markdown",
            "source": [
                "1.2. El operador UNION ALL devuelve todas las filas de ambas tablas incluyendo duplicados"
            ],
            "metadata": {
                "azdata_cell_guid": "d7e9f8ad-d30a-4306-b899-9ae1ffd21033"
            }
        },
        {
            "cell_type": "code",
            "source": [
                "SELECT country, region, city FROM HR.Employees\r\n",
                "UNION ALL -- 100 rows\r\n",
                "SELECT country, region, city FROM Sales.Customers;"
            ],
            "metadata": {
                "azdata_cell_guid": "d168c270-0299-40d4-aa25-a6fa63008921",
                "language": "sql"
            },
            "outputs": [
                {
                    "output_type": "error",
                    "evalue": "Msg 208, Level 16, State 1, Line 1\r\nInvalid object name 'HR.Employees'.",
                    "ename": "",
                    "traceback": []
                },
                {
                    "output_type": "display_data",
                    "data": {
                        "text/html": "Total execution time: 00:00:00.001"
                    },
                    "metadata": {}
                }
            ],
            "execution_count": 3
        },
        {
            "cell_type": "markdown",
            "source": [
                "1.3. El operador UNION ALL devuelve todas las filas de ambas tablas excluyendo duplicados"
            ],
            "metadata": {
                "azdata_cell_guid": "baf6fd76-49fc-4c50-b636-50676f55d82a"
            }
        },
        {
            "cell_type": "code",
            "source": [
                "SELECT country, region, city FROM HR.Employees \r\n",
                "UNION \r\n",
                "SELECT country, region, city FROM Sales.Customers; "
            ],
            "metadata": {
                "azdata_cell_guid": "2156d210-6a72-4e47-9e63-64286fbb0963",
                "language": "sql"
            },
            "outputs": [
                {
                    "output_type": "error",
                    "evalue": "Msg 208, Level 16, State 1, Line 1\r\nInvalid object name 'HR.Employees'.",
                    "ename": "",
                    "traceback": []
                },
                {
                    "output_type": "display_data",
                    "data": {
                        "text/html": "Total execution time: 00:00:00.005"
                    },
                    "metadata": {}
                }
            ],
            "execution_count": 4
        },
        {
            "cell_type": "markdown",
            "source": [
                "<h2>2. Operador EXCEPT y INTERSECT"
            ],
            "metadata": {
                "azdata_cell_guid": "d63c9fa9-a516-440f-8018-aaa6560ea20f"
            }
        },
        {
            "cell_type": "markdown",
            "source": [
                "2.1. El operador INTERSECT retorna solo las filas encontradas en ambas tablas"
            ],
            "metadata": {
                "azdata_cell_guid": "ceb1771e-f591-4b89-8f44-8e67d1228cc7"
            }
        },
        {
            "cell_type": "code",
            "source": [
                "SELECT country, region, city FROM HR.Employees\r\n",
                "INTERSECT -- 3 distinct rows \r\n",
                "SELECT country, region, city FROM Sales.Customers;"
            ],
            "metadata": {
                "azdata_cell_guid": "c9f2afe5-7fe5-444b-83af-f46f47853c57",
                "language": "sql"
            },
            "outputs": [
                {
                    "output_type": "error",
                    "evalue": "Msg 208, Level 16, State 1, Line 1\r\nInvalid object name 'HR.Employees'.",
                    "ename": "",
                    "traceback": []
                },
                {
                    "output_type": "display_data",
                    "data": {
                        "text/html": "Total execution time: 00:00:00"
                    },
                    "metadata": {}
                }
            ],
            "execution_count": 5
        },
        {
            "cell_type": "markdown",
            "source": [
                "2.2. El operador EXCEPT retorna solo las filas de la tabla tabla derecha (HR.Employees) que no se intersectan con la tabla izquierda."
            ],
            "metadata": {
                "azdata_cell_guid": "75181983-5cca-42b4-abb9-24229a401dbf"
            }
        },
        {
            "cell_type": "code",
            "source": [
                "SELECT country, region, city FROM HR.Employees\r\n",
                "EXCEPT \r\n",
                "SELECT country, region, city FROM Sales.Customers;"
            ],
            "metadata": {
                "azdata_cell_guid": "0dfab54c-404e-401e-914b-68c1c9986642",
                "language": "sql"
            },
            "outputs": [
                {
                    "output_type": "error",
                    "evalue": "Msg 208, Level 16, State 1, Line 1\r\nInvalid object name 'HR.Employees'.",
                    "ename": "",
                    "traceback": []
                },
                {
                    "output_type": "display_data",
                    "data": {
                        "text/html": "Total execution time: 00:00:00"
                    },
                    "metadata": {}
                }
            ],
            "execution_count": 6
        },
        {
            "cell_type": "markdown",
            "source": [
                "2.3. El operador EXCEPT retorna solo las filas de la tabla tabla derecha (Sales.Custormers) que no se intersectan con la tabla izquierda."
            ],
            "metadata": {
                "azdata_cell_guid": "3a051271-254d-4e6e-aa70-ed401dbb01f2"
            }
        },
        {
            "cell_type": "code",
            "source": [
                "SELECT country, region, city FROM Sales.Customers\r\n",
                "EXCEPT \r\n",
                "SELECT country, region, city FROM HR.Employees;"
            ],
            "metadata": {
                "azdata_cell_guid": "e663ba7a-e52a-41ee-adff-4d867f78d8b6",
                "language": "sql"
            },
            "outputs": [
                {
                    "output_type": "error",
                    "evalue": "Msg 208, Level 16, State 1, Line 1\r\nInvalid object name 'Sales.Customers'.",
                    "ename": "",
                    "traceback": []
                },
                {
                    "output_type": "display_data",
                    "data": {
                        "text/html": "Total execution time: 00:00:00"
                    },
                    "metadata": {}
                }
            ],
            "execution_count": 7
        },
        {
            "cell_type": "markdown",
            "source": [
                "<h2>3. Utilizando el Operador APPLY"
            ],
            "metadata": {
                "azdata_cell_guid": "915d1371-a636-494f-bf85-7ce06b37827b"
            }
        },
        {
            "cell_type": "markdown",
            "source": [
                "3.1. Crear una función de tabla que acepte una variable SupplierID y retorne el top 3 de los productos más costosos de ese proveedor"
            ],
            "metadata": {
                "azdata_cell_guid": "a822cf5f-e2ad-4f38-a3b4-a34946de313d"
            }
        },
        {
            "cell_type": "code",
            "source": [
                "CREATE FUNCTION dbo.fn_TopProductsByShipper\r\n",
                "(@supplierid int)\r\n",
                "RETURNS TABLE\r\n",
                "AS\r\n",
                "RETURN\r\n",
                "\tSELECT TOP (3) productid, productname, unitprice\r\n",
                "\tFROM Production.Products\r\n",
                "\tWHERE supplierid = @supplierid\r\n",
                "\tORDER BY unitprice DESC;\r\n",
                "GO"
            ],
            "metadata": {
                "azdata_cell_guid": "6685ff3a-f25b-4b2b-aefd-381a3589fd3e",
                "language": "sql"
            },
            "outputs": [
                {
                    "output_type": "error",
                    "evalue": "Msg 208, Level 16, State 1, Procedure fn_TopProductsByShipper, Line 7\r\nInvalid object name 'Production.Products'.",
                    "ename": "",
                    "traceback": []
                },
                {
                    "output_type": "display_data",
                    "data": {
                        "text/html": "Total execution time: 00:00:00.004"
                    },
                    "metadata": {}
                }
            ],
            "execution_count": 8
        },
        {
            "cell_type": "markdown",
            "source": [
                "3.2. Probar la función con el proveedor ID=2"
            ],
            "metadata": {
                "azdata_cell_guid": "22513e22-9b32-44bc-b1f9-d743bc8d7497"
            }
        },
        {
            "cell_type": "code",
            "source": [
                "SELECT * FROM dbo.fn_TopProductsByShipper(2);\r\n",
                ""
            ],
            "metadata": {
                "azdata_cell_guid": "b6e4cd97-9612-4ef7-a42e-958aa65e09de",
                "language": "sql"
            },
            "outputs": [
                {
                    "output_type": "error",
                    "evalue": "Msg 208, Level 16, State 1, Line 1\r\nInvalid object name 'dbo.fn_TopProductsByShipper'.",
                    "ename": "",
                    "traceback": []
                },
                {
                    "output_type": "display_data",
                    "data": {
                        "text/html": "Total execution time: 00:00:00.004"
                    },
                    "metadata": {}
                }
            ],
            "execution_count": 9
        },
        {
            "cell_type": "markdown",
            "source": [
                "3.3. Probar con el operador CROSS APPLY"
            ],
            "metadata": {
                "azdata_cell_guid": "24c11369-5546-4000-a71a-dddf05b9accb"
            }
        },
        {
            "cell_type": "code",
            "source": [
                "SELECT S.supplierid, S.companyname,\r\n",
                "\tP.productid, P.productname, P.unitprice\r\n",
                "FROM Production.Suppliers AS S\r\n",
                "CROSS APPLY dbo.fn_TopProductsByShipper(S.supplierid) AS P\r\n",
                "ORDER BY S.supplierid ASC, P.unitprice DESC;"
            ],
            "metadata": {
                "azdata_cell_guid": "60b49bd1-b804-4088-b66b-bea80ff6a248",
                "language": "sql"
            },
            "outputs": [
                {
                    "output_type": "error",
                    "evalue": "Msg 208, Level 16, State 1, Line 1\r\nInvalid object name 'Production.Suppliers'.",
                    "ename": "",
                    "traceback": []
                },
                {
                    "output_type": "display_data",
                    "data": {
                        "text/html": "Total execution time: 00:00:00"
                    },
                    "metadata": {}
                }
            ],
            "execution_count": 10
        },
        {
            "cell_type": "markdown",
            "source": [
                "3.4. Escribir una consulta para buscar clientes sin ordenes generadas."
            ],
            "metadata": {
                "azdata_cell_guid": "54f042c1-a4d5-4972-9a86-4ace8946d4fb"
            }
        },
        {
            "cell_type": "code",
            "source": [
                "SELECT C.custid, C.companyname\r\n",
                "FROM Sales.Customers AS C --91 customers\r\n",
                "LEFT OUTER JOIN Sales.Orders AS O -- 830 orders\r\n",
                "ON C.custid = O.custid --832 results with NULL cust"
            ],
            "metadata": {
                "azdata_cell_guid": "98a90874-75b1-4c0a-b962-733412c2792f",
                "tags": [],
                "language": "sql"
            },
            "outputs": [
                {
                    "output_type": "error",
                    "evalue": "Msg 208, Level 16, State 1, Line 1\r\nInvalid object name 'Sales.Customers'.",
                    "ename": "",
                    "traceback": []
                },
                {
                    "output_type": "display_data",
                    "data": {
                        "text/html": "Total execution time: 00:00:00"
                    },
                    "metadata": {}
                }
            ],
            "execution_count": 11
        },
        {
            "cell_type": "markdown",
            "source": [
                "3.5. Retornar los tres productos más recientemente ordenados por cliente, Utilizando CROSS APPLY"
            ],
            "metadata": {
                "azdata_cell_guid": "ac2aa1c1-8c39-4abd-a40f-91f52d8cc7d3"
            }
        },
        {
            "cell_type": "code",
            "source": [
                "SELECT C.custid, TopOrders.orderid, TopOrders.orderdate\r\n",
                "FROM Sales.Customers AS C\r\n",
                "CROSS APPLY\r\n",
                "(SELECT TOP (3) orderid, orderdate\r\n",
                "\tFROM Sales.Orders AS O\r\n",
                "\tWHERE O.custid = C.custid\r\n",
                "\tORDER BY orderdate DESC, orderid DESC) AS TopOrders;"
            ],
            "metadata": {
                "azdata_cell_guid": "a31e0ddf-3fbf-4a1d-9bb2-a1f54c79e3e9",
                "tags": [],
                "language": "sql"
            },
            "outputs": [
                {
                    "output_type": "error",
                    "evalue": "Msg 208, Level 16, State 1, Line 1\r\nInvalid object name 'Sales.Customers'.",
                    "ename": "",
                    "traceback": []
                },
                {
                    "output_type": "display_data",
                    "data": {
                        "text/html": "Total execution time: 00:00:00"
                    },
                    "metadata": {}
                }
            ],
            "execution_count": 14
        },
        {
            "cell_type": "markdown",
            "source": [
                "3.6. Utilizar OUTER APPLY para incluir a los clientes sin ordenes"
            ],
            "metadata": {
                "azdata_cell_guid": "5e67b701-b563-4cab-99da-fbf0fc3cb030"
            }
        },
        {
            "cell_type": "code",
            "source": [
                "SELECT C.custid, TopOrders.orderid, TopOrders.orderdate\r\n",
                "FROM Sales.Customers AS C\r\n",
                "OUTER APPLY\r\n",
                "(SELECT TOP (3) orderid, orderdate\r\n",
                "\tFROM Sales.Orders AS O\r\n",
                "\tWHERE O.custid = C.custid\r\n",
                "\tORDER BY orderdate DESC, orderid DESC) AS TopOrders; "
            ],
            "metadata": {
                "azdata_cell_guid": "78cded86-42b7-4969-94c6-f80602c5ce4e",
                "language": "sql"
            },
            "outputs": [
                {
                    "output_type": "error",
                    "evalue": "Msg 208, Level 16, State 1, Line 1\r\nInvalid object name 'Sales.Customers'.",
                    "ename": "",
                    "traceback": []
                },
                {
                    "output_type": "display_data",
                    "data": {
                        "text/html": "Total execution time: 00:00:00"
                    },
                    "metadata": {}
                }
            ],
            "execution_count": 13
        }
    ]
}